{
  "nbformat": 4,
  "nbformat_minor": 0,
  "metadata": {
    "colab": {
      "provenance": [],
      "authorship_tag": "ABX9TyMhm/n977HZgGIZ7f+O+qPO",
      "include_colab_link": true
    },
    "kernelspec": {
      "name": "python3",
      "display_name": "Python 3"
    },
    "language_info": {
      "name": "python"
    }
  },
  "cells": [
    {
      "cell_type": "markdown",
      "metadata": {
        "id": "view-in-github",
        "colab_type": "text"
      },
      "source": [
        "<a href=\"https://colab.research.google.com/github/Bianca200303/recomendaciones/blob/main/recomendacionvideos.ipynb\" target=\"_parent\"><img src=\"https://colab.research.google.com/assets/colab-badge.svg\" alt=\"Open In Colab\"/></a>"
      ]
    },
    {
      "cell_type": "markdown",
      "source": [
        "**RECOMENDACIÓN DE VIDEOS**\n",
        "\n",
        "\n"
      ],
      "metadata": {
        "id": "uUvPbmV9mOyu"
      }
    },
    {
      "cell_type": "code",
      "execution_count": 1,
      "metadata": {
        "id": "_e_yuZ6oRYs5",
        "outputId": "914ea3fe-50a4-4c4c-bcd1-8fad220a65e6",
        "colab": {
          "base_uri": "https://localhost:8080/",
          "height": 55
        }
      },
      "outputs": [
        {
          "output_type": "display_data",
          "data": {
            "text/plain": [
              "<IPython.core.display.HTML object>"
            ],
            "text/html": [
              "\n",
              "     <input type=\"file\" id=\"files-5b9d2010-4720-48ab-8372-71faddde90d5\" name=\"files[]\" multiple disabled\n",
              "        style=\"border:none\" />\n",
              "     <output id=\"result-5b9d2010-4720-48ab-8372-71faddde90d5\">\n",
              "      Upload widget is only available when the cell has been executed in the\n",
              "      current browser session. Please rerun this cell to enable.\n",
              "      </output>\n",
              "      <script>// Copyright 2017 Google LLC\n",
              "//\n",
              "// Licensed under the Apache License, Version 2.0 (the \"License\");\n",
              "// you may not use this file except in compliance with the License.\n",
              "// You may obtain a copy of the License at\n",
              "//\n",
              "//      http://www.apache.org/licenses/LICENSE-2.0\n",
              "//\n",
              "// Unless required by applicable law or agreed to in writing, software\n",
              "// distributed under the License is distributed on an \"AS IS\" BASIS,\n",
              "// WITHOUT WARRANTIES OR CONDITIONS OF ANY KIND, either express or implied.\n",
              "// See the License for the specific language governing permissions and\n",
              "// limitations under the License.\n",
              "\n",
              "/**\n",
              " * @fileoverview Helpers for google.colab Python module.\n",
              " */\n",
              "(function(scope) {\n",
              "function span(text, styleAttributes = {}) {\n",
              "  const element = document.createElement('span');\n",
              "  element.textContent = text;\n",
              "  for (const key of Object.keys(styleAttributes)) {\n",
              "    element.style[key] = styleAttributes[key];\n",
              "  }\n",
              "  return element;\n",
              "}\n",
              "\n",
              "// Max number of bytes which will be uploaded at a time.\n",
              "const MAX_PAYLOAD_SIZE = 100 * 1024;\n",
              "\n",
              "function _uploadFiles(inputId, outputId) {\n",
              "  const steps = uploadFilesStep(inputId, outputId);\n",
              "  const outputElement = document.getElementById(outputId);\n",
              "  // Cache steps on the outputElement to make it available for the next call\n",
              "  // to uploadFilesContinue from Python.\n",
              "  outputElement.steps = steps;\n",
              "\n",
              "  return _uploadFilesContinue(outputId);\n",
              "}\n",
              "\n",
              "// This is roughly an async generator (not supported in the browser yet),\n",
              "// where there are multiple asynchronous steps and the Python side is going\n",
              "// to poll for completion of each step.\n",
              "// This uses a Promise to block the python side on completion of each step,\n",
              "// then passes the result of the previous step as the input to the next step.\n",
              "function _uploadFilesContinue(outputId) {\n",
              "  const outputElement = document.getElementById(outputId);\n",
              "  const steps = outputElement.steps;\n",
              "\n",
              "  const next = steps.next(outputElement.lastPromiseValue);\n",
              "  return Promise.resolve(next.value.promise).then((value) => {\n",
              "    // Cache the last promise value to make it available to the next\n",
              "    // step of the generator.\n",
              "    outputElement.lastPromiseValue = value;\n",
              "    return next.value.response;\n",
              "  });\n",
              "}\n",
              "\n",
              "/**\n",
              " * Generator function which is called between each async step of the upload\n",
              " * process.\n",
              " * @param {string} inputId Element ID of the input file picker element.\n",
              " * @param {string} outputId Element ID of the output display.\n",
              " * @return {!Iterable<!Object>} Iterable of next steps.\n",
              " */\n",
              "function* uploadFilesStep(inputId, outputId) {\n",
              "  const inputElement = document.getElementById(inputId);\n",
              "  inputElement.disabled = false;\n",
              "\n",
              "  const outputElement = document.getElementById(outputId);\n",
              "  outputElement.innerHTML = '';\n",
              "\n",
              "  const pickedPromise = new Promise((resolve) => {\n",
              "    inputElement.addEventListener('change', (e) => {\n",
              "      resolve(e.target.files);\n",
              "    });\n",
              "  });\n",
              "\n",
              "  const cancel = document.createElement('button');\n",
              "  inputElement.parentElement.appendChild(cancel);\n",
              "  cancel.textContent = 'Cancel upload';\n",
              "  const cancelPromise = new Promise((resolve) => {\n",
              "    cancel.onclick = () => {\n",
              "      resolve(null);\n",
              "    };\n",
              "  });\n",
              "\n",
              "  // Wait for the user to pick the files.\n",
              "  const files = yield {\n",
              "    promise: Promise.race([pickedPromise, cancelPromise]),\n",
              "    response: {\n",
              "      action: 'starting',\n",
              "    }\n",
              "  };\n",
              "\n",
              "  cancel.remove();\n",
              "\n",
              "  // Disable the input element since further picks are not allowed.\n",
              "  inputElement.disabled = true;\n",
              "\n",
              "  if (!files) {\n",
              "    return {\n",
              "      response: {\n",
              "        action: 'complete',\n",
              "      }\n",
              "    };\n",
              "  }\n",
              "\n",
              "  for (const file of files) {\n",
              "    const li = document.createElement('li');\n",
              "    li.append(span(file.name, {fontWeight: 'bold'}));\n",
              "    li.append(span(\n",
              "        `(${file.type || 'n/a'}) - ${file.size} bytes, ` +\n",
              "        `last modified: ${\n",
              "            file.lastModifiedDate ? file.lastModifiedDate.toLocaleDateString() :\n",
              "                                    'n/a'} - `));\n",
              "    const percent = span('0% done');\n",
              "    li.appendChild(percent);\n",
              "\n",
              "    outputElement.appendChild(li);\n",
              "\n",
              "    const fileDataPromise = new Promise((resolve) => {\n",
              "      const reader = new FileReader();\n",
              "      reader.onload = (e) => {\n",
              "        resolve(e.target.result);\n",
              "      };\n",
              "      reader.readAsArrayBuffer(file);\n",
              "    });\n",
              "    // Wait for the data to be ready.\n",
              "    let fileData = yield {\n",
              "      promise: fileDataPromise,\n",
              "      response: {\n",
              "        action: 'continue',\n",
              "      }\n",
              "    };\n",
              "\n",
              "    // Use a chunked sending to avoid message size limits. See b/62115660.\n",
              "    let position = 0;\n",
              "    do {\n",
              "      const length = Math.min(fileData.byteLength - position, MAX_PAYLOAD_SIZE);\n",
              "      const chunk = new Uint8Array(fileData, position, length);\n",
              "      position += length;\n",
              "\n",
              "      const base64 = btoa(String.fromCharCode.apply(null, chunk));\n",
              "      yield {\n",
              "        response: {\n",
              "          action: 'append',\n",
              "          file: file.name,\n",
              "          data: base64,\n",
              "        },\n",
              "      };\n",
              "\n",
              "      let percentDone = fileData.byteLength === 0 ?\n",
              "          100 :\n",
              "          Math.round((position / fileData.byteLength) * 100);\n",
              "      percent.textContent = `${percentDone}% done`;\n",
              "\n",
              "    } while (position < fileData.byteLength);\n",
              "  }\n",
              "\n",
              "  // All done.\n",
              "  yield {\n",
              "    response: {\n",
              "      action: 'complete',\n",
              "    }\n",
              "  };\n",
              "}\n",
              "\n",
              "scope.google = scope.google || {};\n",
              "scope.google.colab = scope.google.colab || {};\n",
              "scope.google.colab._files = {\n",
              "  _uploadFiles,\n",
              "  _uploadFilesContinue,\n",
              "};\n",
              "})(self);\n",
              "</script> "
            ]
          },
          "metadata": {}
        },
        {
          "output_type": "stream",
          "name": "stdout",
          "text": [
            "Saving GBvideos.csv to GBvideos.csv\n"
          ]
        }
      ],
      "source": [
        "# Upload dataset\n",
        "\n",
        "from google.colab import files\n",
        "uploaded = files.upload()"
      ]
    },
    {
      "cell_type": "markdown",
      "source": [
        "Este proyecto implementa un sistema de recomendación basado en contenido utilizando Python. El objetivo es recomendar videos de YouTube similares a un video seleccionado por el usuario, basándose en las etiquetas asociadas a cada video. A continuación, se describe el flujo del código y los componentes clave del sistema de recomendación:\n"
      ],
      "metadata": {
        "id": "YspvN281mJ9-"
      }
    },
    {
      "cell_type": "code",
      "source": [
        "import pandas as pd\n",
        "import string\n",
        "from sklearn.feature_extraction.text import TfidfVectorizer\n",
        "from sklearn.metrics.pairwise import linear_kernel"
      ],
      "metadata": {
        "id": "i3UK0uPvP2E7"
      },
      "execution_count": 1,
      "outputs": []
    },
    {
      "cell_type": "code",
      "source": [
        "df = pd.read_csv('GBvideos.csv')\n",
        "df_sample = df.sample(n=1000)\n",
        "df_sample=df_sample.reset_index(drop=True)\n",
        "\n",
        "print(len(df_sample.index))\n",
        "print(df_sample.shape)\n",
        "#explorando etiquetas\n",
        "print(df_sample['tags'].head)"
      ],
      "metadata": {
        "colab": {
          "base_uri": "https://localhost:8080/"
        },
        "id": "z1jM5RewJXIW",
        "outputId": "50275048-bcc9-4e73-ee33-38466aca1d52"
      },
      "execution_count": 31,
      "outputs": [
        {
          "output_type": "stream",
          "name": "stdout",
          "text": [
            "1000\n",
            "(1000, 16)\n",
            "<bound method NDFrame.head of 0                                                 [none]\n",
            "1      the four|\"singing\"|\"dj khaled\"|\"diddy\"|\"meghan...\n",
            "2                                                 [none]\n",
            "3      words you cant say anymore|\"the m word\"|\"now t...\n",
            "4      SUPER JUNIOR|\"슈퍼주니어\"|\"은혁\"|\"동해\"|\"예성\"|\"신동\"|\"시원\"|...\n",
            "                             ...                        \n",
            "995    overwatch|\"overwatchleague\"|\"competitive\"|\"red...\n",
            "996    Eminem|\"Framed\"|\"Aftermath\"|\"New\"|\"JV-Old\"|\"Sc...\n",
            "997    cobra kai trailer|\"cobra kai official trailer\"...\n",
            "998    Ozuna|\"Reggaeton\"|\"Odisea\"|\"Odisea The Album\"|...\n",
            "999    Friends|\"pop music\"|\"marshmello friends\"|\"anne...\n",
            "Name: tags, Length: 1000, dtype: object>\n"
          ]
        }
      ]
    },
    {
      "cell_type": "code",
      "source": [
        "#limpiamos la estructura de los datos"
      ],
      "metadata": {
        "id": "N2-PpzP4OqN0"
      },
      "execution_count": 45,
      "outputs": []
    },
    {
      "cell_type": "code",
      "source": [
        "df_sample['ntags'] = df_sample['tags'].str.replace('[{}]'.format(string.punctuation), ' ', regex=True)\n",
        "print(df_sample['ntags'].head())\n"
      ],
      "metadata": {
        "colab": {
          "base_uri": "https://localhost:8080/"
        },
        "id": "AK1y6am7P0kK",
        "outputId": "026f383b-8d00-4dda-accd-93c75d19d658"
      },
      "execution_count": 32,
      "outputs": [
        {
          "output_type": "stream",
          "name": "stdout",
          "text": [
            "0                                                none \n",
            "1    the four  singing   dj khaled   diddy   meghan...\n",
            "2                                                none \n",
            "3    words you cant say anymore  the m word   now t...\n",
            "4    SUPER JUNIOR  슈퍼주니어   은혁   동해   예성   신동   시원  ...\n",
            "Name: ntags, dtype: object\n"
          ]
        }
      ]
    },
    {
      "cell_type": "code",
      "source": [
        "#excluimos palabras que no agregan valor\n",
        "tfidf=TfidfVectorizer(stop_words='english')\n",
        "#rellenar espacios sin datos con ''\n",
        "df_sample['ntags'] = df_sample['ntags'].fillna('')\n"
      ],
      "metadata": {
        "id": "NqHIMeC3R6rV"
      },
      "execution_count": 33,
      "outputs": []
    },
    {
      "cell_type": "code",
      "source": [
        "\n",
        "tfidf_matrix = tfidf.fit_transform(df_sample['ntags'])\n",
        "\n",
        "print(len(tfidf.vocabulary_))\n"
      ],
      "metadata": {
        "colab": {
          "base_uri": "https://localhost:8080/"
        },
        "id": "UVesO9btVMVc",
        "outputId": "2bc05003-f0ff-46bd-d392-3baddf0ce1ac"
      },
      "execution_count": 46,
      "outputs": [
        {
          "output_type": "stream",
          "name": "stdout",
          "text": [
            "6725\n"
          ]
        }
      ]
    },
    {
      "cell_type": "code",
      "source": [
        "cosine_sim=linear_kernel(tfidf_matrix,tfidf_matrix)"
      ],
      "metadata": {
        "id": "RweqSCB1ZnM6"
      },
      "execution_count": 35,
      "outputs": []
    },
    {
      "cell_type": "code",
      "source": [
        "#borrar duplicados\n",
        "indices= pd.Series(df_sample.index, index=df_sample['title']).drop_duplicates()"
      ],
      "metadata": {
        "id": "2hYfOHnYba4l"
      },
      "execution_count": 36,
      "outputs": []
    },
    {
      "cell_type": "code",
      "source": [
        "# Verificar si el título está en el índice y manejar duplicados si es necesario\n",
        "def obtener_recomendacion(title, cosine_sim=cosine_sim):\n",
        "    if title not in indices:\n",
        "        print(f\"El título '{title}' no está en el índice.\")\n",
        "        return []\n",
        "\n",
        "    idx = indices[title]\n",
        "\n",
        "    # En caso de que idx sea una serie con múltiples índices, tomar el primero\n",
        "    if isinstance(idx, pd.Series):\n",
        "        idx = idx.iloc[0]\n",
        "\n",
        "    sim_scores = list(enumerate(cosine_sim[idx]))\n",
        "    sim_scores = sorted(sim_scores, key=lambda x: x[1], reverse=True)  # ordenar por similitud\n",
        "    sim_scores = sim_scores[1:5]  # obtener los 4 más similares (excluyendo el propio)\n",
        "    movie_indices = [i[0] for i in sim_scores]\n",
        "\n",
        "    return df_sample['title'].iloc[movie_indices]\n"
      ],
      "metadata": {
        "id": "CYEOhOBMNzK5"
      },
      "execution_count": 41,
      "outputs": []
    },
    {
      "cell_type": "code",
      "source": [
        "titulo=str(df_sample.iloc[2]['title'])\n",
        "print('tu seleccionaste:' +titulo+' ,tu recomendacion es: ')\n",
        "print(obtener_recomendacion(titulo))"
      ],
      "metadata": {
        "colab": {
          "base_uri": "https://localhost:8080/"
        },
        "id": "kQPWCRy7kSQ6",
        "outputId": "e23010c5-3e2f-443e-f40c-48ee0ccd13f9"
      },
      "execution_count": 45,
      "outputs": [
        {
          "output_type": "stream",
          "name": "stdout",
          "text": [
            "tu seleccionaste:The Best of Keith Jackson ,tu recomendacion es: \n",
            "1    Cheyenne Elliott Performs Wings | Season 1 Ep....\n",
            "2                            The Best of Keith Jackson\n",
            "3                          The Return of Whiteface Man\n",
            "4    SUPER JUNIOR 슈퍼주니어 'Lo Siento (Feat. Leslie Gr...\n",
            "Name: title, dtype: object\n"
          ]
        }
      ]
    }
  ]
}